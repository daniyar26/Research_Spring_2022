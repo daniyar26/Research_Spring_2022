{
 "cells": [
  {
   "cell_type": "code",
   "execution_count": 1,
   "id": "8d0e8798",
   "metadata": {},
   "outputs": [],
   "source": [
    "import pandas as pd\n",
    "import os\n",
    "import numpy as np\n",
    "from matplotlib import pyplot as plt"
   ]
  },
  {
   "cell_type": "code",
   "execution_count": 2,
   "id": "ab98f16b",
   "metadata": {},
   "outputs": [],
   "source": [
    "data_path = r\"C:\\Users\\Daniyar Syrlybayev\\Desktop\\Material Data\\Excel_files\\5  mmps\"\n",
    "output_path = r\"C:\\Users\\Daniyar Syrlybayev\\Desktop\\Material Data\\Excel_files\"\n",
    "\n",
    "Cross_Sections = {\"Spec 1\" : [(4.97, 6.53), (4.92, 6.21), (4.95, 6.18), (4.94, 6.21), (4.97, 6.26)],\n",
    "                  \"Spec 2\" : [(4.94, 6.20), (4.96, 6.19), (4.92, 6.20), (4.93, 6.21), (4.94, 6.19)],\n",
    "                  \"Spec 3\" : [(4.94, 6.20), (4.95, 6.20), (4.91, 6.22), (4.94, 6.21), (4.96, 6.19)]\n",
    "} #(t, w)\n",
    "Lenght = np.array([134.19, 133.48, 133.34], dtype = np.float32)\n",
    "\n",
    "Areas = []\n",
    "for i in range(1, 4):\n",
    "    Areas.append(\n",
    "        np.mean(\n",
    "            np.array(\n",
    "                list(\n",
    "                    map(lambda x: x[0] * x[1], Cross_Sections[\"Spec \" + str(i)])\n",
    "                )\n",
    "            )\n",
    "        )\n",
    "    )"
   ]
  },
  {
   "cell_type": "code",
   "execution_count": 3,
   "id": "a30c5006",
   "metadata": {},
   "outputs": [
    {
     "data": {
      "text/plain": [
       "[31.07758, 30.60566, 30.647600000000004]"
      ]
     },
     "execution_count": 3,
     "metadata": {},
     "output_type": "execute_result"
    }
   ],
   "source": [
    "Areas"
   ]
  },
  {
   "cell_type": "code",
   "execution_count": 4,
   "id": "2381b2dd",
   "metadata": {},
   "outputs": [],
   "source": [
    "data = {}\n",
    "counter = 1\n",
    "for i in os.listdir(data_path):\n",
    "    data[\"Spec \" + str(counter)] = pd.read_excel(data_path + \"\\\\\" + str(i))\n",
    "    counter += 1"
   ]
  },
  {
   "cell_type": "code",
   "execution_count": 5,
   "id": "7ca833ed",
   "metadata": {},
   "outputs": [],
   "source": [
    "for i in range(3):\n",
    "    data[\"Spec \" + str(i + 1)][\"Engineering Strain\"] = data[\"Spec \" + str(i + 1)][\"Displacement\"]/Lenght[i]\n",
    "    data[\"Spec \" + str(i + 1)][\"Engineering Stress\"] = data[\"Spec \" + str(i + 1)][\"Force\"]/Areas[i]\n",
    "    data[\"Spec \" + str(i + 1)][\"True Strain\"] = np.log(data[\"Spec \" + str(i + 1)][\"Engineering Strain\"] + 1)\n",
    "    data[\"Spec \" + str(i + 1)][\"True Stress\"] = data[\"Spec \" + str(i + 1)][\"Engineering Stress\"] * (1 + data[\"Spec \" + str(i + 1)][\"Engineering Strain\"])"
   ]
  },
  {
   "cell_type": "code",
   "execution_count": 6,
   "id": "90d94544",
   "metadata": {},
   "outputs": [
    {
     "data": {
      "text/html": [
       "<div>\n",
       "<style scoped>\n",
       "    .dataframe tbody tr th:only-of-type {\n",
       "        vertical-align: middle;\n",
       "    }\n",
       "\n",
       "    .dataframe tbody tr th {\n",
       "        vertical-align: top;\n",
       "    }\n",
       "\n",
       "    .dataframe thead th {\n",
       "        text-align: right;\n",
       "    }\n",
       "</style>\n",
       "<table border=\"1\" class=\"dataframe\">\n",
       "  <thead>\n",
       "    <tr style=\"text-align: right;\">\n",
       "      <th></th>\n",
       "      <th>Displacement</th>\n",
       "      <th>Force</th>\n",
       "      <th>Engineering Strain</th>\n",
       "      <th>Engineering Stress</th>\n",
       "      <th>True Strain</th>\n",
       "      <th>True Stress</th>\n",
       "    </tr>\n",
       "  </thead>\n",
       "  <tbody>\n",
       "    <tr>\n",
       "      <th>0</th>\n",
       "      <td>0.018670</td>\n",
       "      <td>10.295461</td>\n",
       "      <td>0.000140</td>\n",
       "      <td>0.335930</td>\n",
       "      <td>0.000140</td>\n",
       "      <td>0.335977</td>\n",
       "    </tr>\n",
       "    <tr>\n",
       "      <th>1</th>\n",
       "      <td>0.068231</td>\n",
       "      <td>43.651788</td>\n",
       "      <td>0.000512</td>\n",
       "      <td>1.424313</td>\n",
       "      <td>0.000512</td>\n",
       "      <td>1.425042</td>\n",
       "    </tr>\n",
       "    <tr>\n",
       "      <th>2</th>\n",
       "      <td>0.112569</td>\n",
       "      <td>74.192119</td>\n",
       "      <td>0.000844</td>\n",
       "      <td>2.420813</td>\n",
       "      <td>0.000844</td>\n",
       "      <td>2.422857</td>\n",
       "    </tr>\n",
       "    <tr>\n",
       "      <th>3</th>\n",
       "      <td>0.159065</td>\n",
       "      <td>105.841517</td>\n",
       "      <td>0.001193</td>\n",
       "      <td>3.453501</td>\n",
       "      <td>0.001192</td>\n",
       "      <td>3.457621</td>\n",
       "    </tr>\n",
       "    <tr>\n",
       "      <th>4</th>\n",
       "      <td>0.205719</td>\n",
       "      <td>136.307037</td>\n",
       "      <td>0.001543</td>\n",
       "      <td>4.447560</td>\n",
       "      <td>0.001542</td>\n",
       "      <td>4.454422</td>\n",
       "    </tr>\n",
       "    <tr>\n",
       "      <th>5</th>\n",
       "      <td>0.252387</td>\n",
       "      <td>166.667789</td>\n",
       "      <td>0.001893</td>\n",
       "      <td>5.438200</td>\n",
       "      <td>0.001891</td>\n",
       "      <td>5.448494</td>\n",
       "    </tr>\n",
       "    <tr>\n",
       "      <th>6</th>\n",
       "      <td>0.299053</td>\n",
       "      <td>197.039018</td>\n",
       "      <td>0.002243</td>\n",
       "      <td>6.429183</td>\n",
       "      <td>0.002240</td>\n",
       "      <td>6.443602</td>\n",
       "    </tr>\n",
       "    <tr>\n",
       "      <th>7</th>\n",
       "      <td>0.345599</td>\n",
       "      <td>228.314743</td>\n",
       "      <td>0.002592</td>\n",
       "      <td>7.449678</td>\n",
       "      <td>0.002589</td>\n",
       "      <td>7.468986</td>\n",
       "    </tr>\n",
       "    <tr>\n",
       "      <th>8</th>\n",
       "      <td>0.400604</td>\n",
       "      <td>257.350744</td>\n",
       "      <td>0.003004</td>\n",
       "      <td>8.397093</td>\n",
       "      <td>0.003000</td>\n",
       "      <td>8.422321</td>\n",
       "    </tr>\n",
       "    <tr>\n",
       "      <th>9</th>\n",
       "      <td>0.444791</td>\n",
       "      <td>288.358558</td>\n",
       "      <td>0.003336</td>\n",
       "      <td>9.408846</td>\n",
       "      <td>0.003330</td>\n",
       "      <td>9.440232</td>\n",
       "    </tr>\n",
       "    <tr>\n",
       "      <th>10</th>\n",
       "      <td>0.486225</td>\n",
       "      <td>314.749979</td>\n",
       "      <td>0.003647</td>\n",
       "      <td>10.269972</td>\n",
       "      <td>0.003640</td>\n",
       "      <td>10.307421</td>\n",
       "    </tr>\n",
       "    <tr>\n",
       "      <th>11</th>\n",
       "      <td>0.532641</td>\n",
       "      <td>346.991701</td>\n",
       "      <td>0.003995</td>\n",
       "      <td>11.321986</td>\n",
       "      <td>0.003987</td>\n",
       "      <td>11.367213</td>\n",
       "    </tr>\n",
       "    <tr>\n",
       "      <th>12</th>\n",
       "      <td>0.601782</td>\n",
       "      <td>381.742128</td>\n",
       "      <td>0.004513</td>\n",
       "      <td>12.455857</td>\n",
       "      <td>0.004503</td>\n",
       "      <td>12.512072</td>\n",
       "    </tr>\n",
       "    <tr>\n",
       "      <th>13</th>\n",
       "      <td>0.648106</td>\n",
       "      <td>414.672700</td>\n",
       "      <td>0.004861</td>\n",
       "      <td>13.530348</td>\n",
       "      <td>0.004849</td>\n",
       "      <td>13.596113</td>\n",
       "    </tr>\n",
       "    <tr>\n",
       "      <th>14</th>\n",
       "      <td>0.699499</td>\n",
       "      <td>444.194781</td>\n",
       "      <td>0.005246</td>\n",
       "      <td>14.493624</td>\n",
       "      <td>0.005232</td>\n",
       "      <td>14.569657</td>\n",
       "    </tr>\n",
       "    <tr>\n",
       "      <th>15</th>\n",
       "      <td>0.753566</td>\n",
       "      <td>475.886167</td>\n",
       "      <td>0.005651</td>\n",
       "      <td>15.527681</td>\n",
       "      <td>0.005636</td>\n",
       "      <td>15.615435</td>\n",
       "    </tr>\n",
       "    <tr>\n",
       "      <th>16</th>\n",
       "      <td>0.811070</td>\n",
       "      <td>506.508475</td>\n",
       "      <td>0.006083</td>\n",
       "      <td>16.526856</td>\n",
       "      <td>0.006064</td>\n",
       "      <td>16.627384</td>\n",
       "    </tr>\n",
       "    <tr>\n",
       "      <th>17</th>\n",
       "      <td>0.866947</td>\n",
       "      <td>536.985610</td>\n",
       "      <td>0.006502</td>\n",
       "      <td>17.521294</td>\n",
       "      <td>0.006481</td>\n",
       "      <td>17.635214</td>\n",
       "    </tr>\n",
       "    <tr>\n",
       "      <th>18</th>\n",
       "      <td>0.920758</td>\n",
       "      <td>565.673140</td>\n",
       "      <td>0.006905</td>\n",
       "      <td>18.457339</td>\n",
       "      <td>0.006882</td>\n",
       "      <td>18.584793</td>\n",
       "    </tr>\n",
       "    <tr>\n",
       "      <th>19</th>\n",
       "      <td>0.977935</td>\n",
       "      <td>592.176415</td>\n",
       "      <td>0.007334</td>\n",
       "      <td>19.322114</td>\n",
       "      <td>0.007307</td>\n",
       "      <td>19.463825</td>\n",
       "    </tr>\n",
       "    <tr>\n",
       "      <th>20</th>\n",
       "      <td>1.032029</td>\n",
       "      <td>624.487937</td>\n",
       "      <td>0.007740</td>\n",
       "      <td>20.376406</td>\n",
       "      <td>0.007710</td>\n",
       "      <td>20.534116</td>\n",
       "    </tr>\n",
       "    <tr>\n",
       "      <th>21</th>\n",
       "      <td>1.101962</td>\n",
       "      <td>656.601849</td>\n",
       "      <td>0.008264</td>\n",
       "      <td>21.424250</td>\n",
       "      <td>0.008230</td>\n",
       "      <td>21.601307</td>\n",
       "    </tr>\n",
       "    <tr>\n",
       "      <th>22</th>\n",
       "      <td>1.162743</td>\n",
       "      <td>687.359173</td>\n",
       "      <td>0.008720</td>\n",
       "      <td>22.427830</td>\n",
       "      <td>0.008682</td>\n",
       "      <td>22.623404</td>\n",
       "    </tr>\n",
       "    <tr>\n",
       "      <th>23</th>\n",
       "      <td>1.225061</td>\n",
       "      <td>716.811362</td>\n",
       "      <td>0.009187</td>\n",
       "      <td>23.388825</td>\n",
       "      <td>0.009146</td>\n",
       "      <td>23.603710</td>\n",
       "    </tr>\n",
       "    <tr>\n",
       "      <th>24</th>\n",
       "      <td>1.289751</td>\n",
       "      <td>747.702572</td>\n",
       "      <td>0.009673</td>\n",
       "      <td>24.396774</td>\n",
       "      <td>0.009626</td>\n",
       "      <td>24.632755</td>\n",
       "    </tr>\n",
       "    <tr>\n",
       "      <th>25</th>\n",
       "      <td>1.365638</td>\n",
       "      <td>775.918488</td>\n",
       "      <td>0.010242</td>\n",
       "      <td>25.317431</td>\n",
       "      <td>0.010190</td>\n",
       "      <td>25.576726</td>\n",
       "    </tr>\n",
       "    <tr>\n",
       "      <th>26</th>\n",
       "      <td>1.441542</td>\n",
       "      <td>809.677405</td>\n",
       "      <td>0.010811</td>\n",
       "      <td>26.418950</td>\n",
       "      <td>0.010753</td>\n",
       "      <td>26.704566</td>\n",
       "    </tr>\n",
       "    <tr>\n",
       "      <th>27</th>\n",
       "      <td>1.522124</td>\n",
       "      <td>845.096954</td>\n",
       "      <td>0.011415</td>\n",
       "      <td>27.574654</td>\n",
       "      <td>0.011351</td>\n",
       "      <td>27.889428</td>\n",
       "    </tr>\n",
       "    <tr>\n",
       "      <th>28</th>\n",
       "      <td>1.621312</td>\n",
       "      <td>879.344517</td>\n",
       "      <td>0.012159</td>\n",
       "      <td>28.692117</td>\n",
       "      <td>0.012086</td>\n",
       "      <td>29.040991</td>\n",
       "    </tr>\n",
       "    <tr>\n",
       "      <th>29</th>\n",
       "      <td>1.722892</td>\n",
       "      <td>912.949384</td>\n",
       "      <td>0.012921</td>\n",
       "      <td>29.788609</td>\n",
       "      <td>0.012838</td>\n",
       "      <td>30.173509</td>\n",
       "    </tr>\n",
       "    <tr>\n",
       "      <th>30</th>\n",
       "      <td>1.829622</td>\n",
       "      <td>942.540336</td>\n",
       "      <td>0.013721</td>\n",
       "      <td>30.754132</td>\n",
       "      <td>0.013628</td>\n",
       "      <td>31.176124</td>\n",
       "    </tr>\n",
       "    <tr>\n",
       "      <th>31</th>\n",
       "      <td>1.946430</td>\n",
       "      <td>965.754197</td>\n",
       "      <td>0.014597</td>\n",
       "      <td>31.511577</td>\n",
       "      <td>0.014492</td>\n",
       "      <td>31.971567</td>\n",
       "    </tr>\n",
       "    <tr>\n",
       "      <th>32</th>\n",
       "      <td>2.065122</td>\n",
       "      <td>974.898604</td>\n",
       "      <td>0.015488</td>\n",
       "      <td>31.809949</td>\n",
       "      <td>0.015369</td>\n",
       "      <td>32.302610</td>\n",
       "    </tr>\n",
       "    <tr>\n",
       "      <th>33</th>\n",
       "      <td>2.186321</td>\n",
       "      <td>965.327201</td>\n",
       "      <td>0.016397</td>\n",
       "      <td>31.497644</td>\n",
       "      <td>0.016264</td>\n",
       "      <td>32.014098</td>\n",
       "    </tr>\n",
       "    <tr>\n",
       "      <th>34</th>\n",
       "      <td>2.309695</td>\n",
       "      <td>939.515163</td>\n",
       "      <td>0.017322</td>\n",
       "      <td>30.655424</td>\n",
       "      <td>0.017174</td>\n",
       "      <td>31.186432</td>\n",
       "    </tr>\n",
       "    <tr>\n",
       "      <th>35</th>\n",
       "      <td>2.433348</td>\n",
       "      <td>911.627698</td>\n",
       "      <td>0.018249</td>\n",
       "      <td>29.745484</td>\n",
       "      <td>0.018085</td>\n",
       "      <td>30.288315</td>\n",
       "    </tr>\n",
       "    <tr>\n",
       "      <th>36</th>\n",
       "      <td>2.556817</td>\n",
       "      <td>885.106324</td>\n",
       "      <td>0.019175</td>\n",
       "      <td>28.880119</td>\n",
       "      <td>0.018994</td>\n",
       "      <td>29.433900</td>\n",
       "    </tr>\n",
       "    <tr>\n",
       "      <th>37</th>\n",
       "      <td>2.679465</td>\n",
       "      <td>864.710048</td>\n",
       "      <td>0.020095</td>\n",
       "      <td>28.214609</td>\n",
       "      <td>0.019896</td>\n",
       "      <td>28.781581</td>\n",
       "    </tr>\n",
       "    <tr>\n",
       "      <th>38</th>\n",
       "      <td>2.802914</td>\n",
       "      <td>838.345216</td>\n",
       "      <td>0.021021</td>\n",
       "      <td>27.354351</td>\n",
       "      <td>0.020803</td>\n",
       "      <td>27.929362</td>\n",
       "    </tr>\n",
       "    <tr>\n",
       "      <th>39</th>\n",
       "      <td>2.905775</td>\n",
       "      <td>810.722806</td>\n",
       "      <td>0.021792</td>\n",
       "      <td>26.453060</td>\n",
       "      <td>0.021558</td>\n",
       "      <td>27.029531</td>\n",
       "    </tr>\n",
       "    <tr>\n",
       "      <th>40</th>\n",
       "      <td>2.967258</td>\n",
       "      <td>777.428660</td>\n",
       "      <td>0.022253</td>\n",
       "      <td>25.366706</td>\n",
       "      <td>0.022009</td>\n",
       "      <td>25.931200</td>\n",
       "    </tr>\n",
       "    <tr>\n",
       "      <th>41</th>\n",
       "      <td>3.028530</td>\n",
       "      <td>755.095659</td>\n",
       "      <td>0.022713</td>\n",
       "      <td>24.638003</td>\n",
       "      <td>0.022459</td>\n",
       "      <td>25.197602</td>\n",
       "    </tr>\n",
       "  </tbody>\n",
       "</table>\n",
       "</div>"
      ],
      "text/plain": [
       "    Displacement       Force  Engineering Strain  Engineering Stress  \\\n",
       "0       0.018670   10.295461            0.000140            0.335930   \n",
       "1       0.068231   43.651788            0.000512            1.424313   \n",
       "2       0.112569   74.192119            0.000844            2.420813   \n",
       "3       0.159065  105.841517            0.001193            3.453501   \n",
       "4       0.205719  136.307037            0.001543            4.447560   \n",
       "5       0.252387  166.667789            0.001893            5.438200   \n",
       "6       0.299053  197.039018            0.002243            6.429183   \n",
       "7       0.345599  228.314743            0.002592            7.449678   \n",
       "8       0.400604  257.350744            0.003004            8.397093   \n",
       "9       0.444791  288.358558            0.003336            9.408846   \n",
       "10      0.486225  314.749979            0.003647           10.269972   \n",
       "11      0.532641  346.991701            0.003995           11.321986   \n",
       "12      0.601782  381.742128            0.004513           12.455857   \n",
       "13      0.648106  414.672700            0.004861           13.530348   \n",
       "14      0.699499  444.194781            0.005246           14.493624   \n",
       "15      0.753566  475.886167            0.005651           15.527681   \n",
       "16      0.811070  506.508475            0.006083           16.526856   \n",
       "17      0.866947  536.985610            0.006502           17.521294   \n",
       "18      0.920758  565.673140            0.006905           18.457339   \n",
       "19      0.977935  592.176415            0.007334           19.322114   \n",
       "20      1.032029  624.487937            0.007740           20.376406   \n",
       "21      1.101962  656.601849            0.008264           21.424250   \n",
       "22      1.162743  687.359173            0.008720           22.427830   \n",
       "23      1.225061  716.811362            0.009187           23.388825   \n",
       "24      1.289751  747.702572            0.009673           24.396774   \n",
       "25      1.365638  775.918488            0.010242           25.317431   \n",
       "26      1.441542  809.677405            0.010811           26.418950   \n",
       "27      1.522124  845.096954            0.011415           27.574654   \n",
       "28      1.621312  879.344517            0.012159           28.692117   \n",
       "29      1.722892  912.949384            0.012921           29.788609   \n",
       "30      1.829622  942.540336            0.013721           30.754132   \n",
       "31      1.946430  965.754197            0.014597           31.511577   \n",
       "32      2.065122  974.898604            0.015488           31.809949   \n",
       "33      2.186321  965.327201            0.016397           31.497644   \n",
       "34      2.309695  939.515163            0.017322           30.655424   \n",
       "35      2.433348  911.627698            0.018249           29.745484   \n",
       "36      2.556817  885.106324            0.019175           28.880119   \n",
       "37      2.679465  864.710048            0.020095           28.214609   \n",
       "38      2.802914  838.345216            0.021021           27.354351   \n",
       "39      2.905775  810.722806            0.021792           26.453060   \n",
       "40      2.967258  777.428660            0.022253           25.366706   \n",
       "41      3.028530  755.095659            0.022713           24.638003   \n",
       "\n",
       "    True Strain  True Stress  \n",
       "0      0.000140     0.335977  \n",
       "1      0.000512     1.425042  \n",
       "2      0.000844     2.422857  \n",
       "3      0.001192     3.457621  \n",
       "4      0.001542     4.454422  \n",
       "5      0.001891     5.448494  \n",
       "6      0.002240     6.443602  \n",
       "7      0.002589     7.468986  \n",
       "8      0.003000     8.422321  \n",
       "9      0.003330     9.440232  \n",
       "10     0.003640    10.307421  \n",
       "11     0.003987    11.367213  \n",
       "12     0.004503    12.512072  \n",
       "13     0.004849    13.596113  \n",
       "14     0.005232    14.569657  \n",
       "15     0.005636    15.615435  \n",
       "16     0.006064    16.627384  \n",
       "17     0.006481    17.635214  \n",
       "18     0.006882    18.584793  \n",
       "19     0.007307    19.463825  \n",
       "20     0.007710    20.534116  \n",
       "21     0.008230    21.601307  \n",
       "22     0.008682    22.623404  \n",
       "23     0.009146    23.603710  \n",
       "24     0.009626    24.632755  \n",
       "25     0.010190    25.576726  \n",
       "26     0.010753    26.704566  \n",
       "27     0.011351    27.889428  \n",
       "28     0.012086    29.040991  \n",
       "29     0.012838    30.173509  \n",
       "30     0.013628    31.176124  \n",
       "31     0.014492    31.971567  \n",
       "32     0.015369    32.302610  \n",
       "33     0.016264    32.014098  \n",
       "34     0.017174    31.186432  \n",
       "35     0.018085    30.288315  \n",
       "36     0.018994    29.433900  \n",
       "37     0.019896    28.781581  \n",
       "38     0.020803    27.929362  \n",
       "39     0.021558    27.029531  \n",
       "40     0.022009    25.931200  \n",
       "41     0.022459    25.197602  "
      ]
     },
     "execution_count": 6,
     "metadata": {},
     "output_type": "execute_result"
    }
   ],
   "source": [
    "data[\"Spec 3\"]"
   ]
  },
  {
   "cell_type": "markdown",
   "id": "bba090fa",
   "metadata": {},
   "source": [
    "PLOT ENGINEERING STRESS AND STRAIN CURVE"
   ]
  },
  {
   "cell_type": "code",
   "execution_count": 7,
   "id": "35ab9c64",
   "metadata": {},
   "outputs": [
    {
     "data": {
      "image/png": "[encoded data removed]",
      "text/plain": [
       "<Figure size 432x288 with 1 Axes>"
      ]
     },
     "metadata": {
      "needs_background": "light"
     },
     "output_type": "display_data"
    }
   ],
   "source": [
    "styles = [\"b-\", \"r-\", \"g-\"]\n",
    "eng_curves = []\n",
    "for i in range(3):\n",
    "    j = data[\"Spec \" + str(i + 1)]\n",
    "    x = list(j[\"Engineering Strain\"])\n",
    "    y = list(j[\"Engineering Stress\"])\n",
    "    eng_curves.append(plt.plot(x, y, styles[i], label = \"Spec \" + str(i + 1)))\n",
    "plt.xlabel = \"Engineering Strain [mm/mm]\"\n",
    "plt.ylabel = \"Engineering Stress [MPa]\"\n",
    "plt.legend()\n",
    "plt.title(\"Engineering Stress - Strain curve (5 mm/s rate)\")\n",
    "plt.grid(True)\n",
    "plt.savefig(output_path + \"\\\\Engineering_Curves.pdf\")\n",
    "plt.show()"
   ]
  },
  {
   "cell_type": "code",
   "execution_count": 8,
   "id": "fe33825d",
   "metadata": {},
   "outputs": [
    {
     "data": {
      "image/png": "[encoded data removed]",
      "text/plain": [
       "<Figure size 432x288 with 1 Axes>"
      ]
     },
     "metadata": {
      "needs_background": "light"
     },
     "output_type": "display_data"
    }
   ],
   "source": [
    "styles = [\"b-\", \"r-\", \"g-\"]\n",
    "true_curves = []\n",
    "for i in range(3):\n",
    "    j = data[\"Spec \" + str(i + 1)]\n",
    "    x = list(j[\"True Strain\"])\n",
    "    y = list(j[\"True Stress\"])\n",
    "    true_curves.append(plt.plot(x, y, styles[i], label = \"Spec \" + str(i + 1)))\n",
    "plt.xlabel = \"True Strain [mm/mm]\"\n",
    "plt.ylabel = \"True Stress [MPa]\"\n",
    "plt.legend()\n",
    "plt.title(\"True Stress - Strain curve (5 mm/s rate)\")\n",
    "plt.grid(True)\n",
    "plt.savefig(output_path + \"\\\\True_Curves.pdf\")\n",
    "plt.show()"
   ]
  },
  {
   "cell_type": "code",
   "execution_count": 9,
   "id": "e1fb71ab",
   "metadata": {},
   "outputs": [
    {
     "data": {
      "image/png": "[encoded data removed]",
      "text/plain": [
       "<Figure size 432x288 with 1 Axes>"
      ]
     },
     "metadata": {
      "needs_background": "light"
     },
     "output_type": "display_data"
    }
   ],
   "source": [
    "plt.plot(data[\"Spec 1\"][\"True Strain\"], data[\"Spec 1\"][\"True Stress\"], \"r-\", label = \"True\")\n",
    "plt.plot(data[\"Spec 1\"][\"Engineering Strain\"], data[\"Spec 1\"][\"Engineering Stress\"], \"g-\", label = \"Engineering\")\n",
    "plt.legend()\n",
    "plt.title(\"Spec 1\")\n",
    "plt.xlabel = \"Strain [mm/mm]\"\n",
    "plt.ylabel = \"Stress [MPa]\""
   ]
  },
  {
   "cell_type": "code",
   "execution_count": 10,
   "id": "acf646d0",
   "metadata": {},
   "outputs": [
    {
     "data": {
      "image/png": "[encoded data removed]",
      "text/plain": [
       "<Figure size 432x288 with 1 Axes>"
      ]
     },
     "metadata": {
      "needs_background": "light"
     },
     "output_type": "display_data"
    }
   ],
   "source": [
    "plt.plot(data[\"Spec 2\"][\"True Strain\"], data[\"Spec 2\"][\"True Stress\"], \"r-\", label = \"True\")\n",
    "plt.plot(data[\"Spec 2\"][\"Engineering Strain\"], data[\"Spec 2\"][\"Engineering Stress\"], \"g-\", label = \"Engineering\")\n",
    "plt.legend()\n",
    "plt.title(\"Spec 2\")\n",
    "plt.xlabel = \"Strain [mm/mm]\"\n",
    "plt.ylabel = \"Stress [MPa]\""
   ]
  },
  {
   "cell_type": "code",
   "execution_count": 11,
   "id": "890fa7cc",
   "metadata": {},
   "outputs": [
    {
     "data": {
      "image/png": "[encoded data removed]",
      "text/plain": [
       "<Figure size 432x288 with 1 Axes>"
      ]
     },
     "metadata": {
      "needs_background": "light"
     },
     "output_type": "display_data"
    }
   ],
   "source": [
    "plt.plot(data[\"Spec 3\"][\"True Strain\"], data[\"Spec 3\"][\"True Stress\"], \"r-\", label = \"True\")\n",
    "plt.plot(data[\"Spec 3\"][\"Engineering Strain\"], data[\"Spec 3\"][\"Engineering Stress\"], \"g-\", label = \"Engineering\")\n",
    "plt.legend()\n",
    "plt.title(\"Spec 3\")\n",
    "plt.xlabel = \"Strain [mm/mm]\"\n",
    "plt.ylabel = \"Stress [MPa]\""
   ]
  },
  {
   "cell_type": "markdown",
   "id": "cd0694b9",
   "metadata": {},
   "source": [
    "# Find UTS Stress and UTS Strain of the parts"
   ]
  },
  {
   "cell_type": "code",
   "execution_count": 41,
   "id": "f46d7182",
   "metadata": {},
   "outputs": [],
   "source": [
    "yeild_stress = None\n",
    "yeild_strain = None\n",
    "std_yeild_stress = None\n",
    "mean_yeild_strain = None"
   ]
  },
  {
   "cell_type": "code",
   "execution_count": 42,
   "id": "efe8f7d6",
   "metadata": {},
   "outputs": [],
   "source": [
    "ut_stress = []\n",
    "ut_strain = []\n",
    "indices = []\n",
    "for i in range(1, 4):\n",
    "    dat = data[\"Spec \" + str(i)]\n",
    "    a = list(dat[\"True Stress\"])\n",
    "    b = list(dat[\"True Strain\"])\n",
    "    ut_stress.append(max(a))\n",
    "    ut_strain.append(b[a.index(max(a))])\n",
    "    indices.append(a.index(max(a)))\n",
    "    "
   ]
  },
  {
   "cell_type": "code",
   "execution_count": 43,
   "id": "3a66397e",
   "metadata": {},
   "outputs": [
    {
     "data": {
      "text/plain": [
       "[30.874230466868845, 30.523805856227973, 32.30261047891132]"
      ]
     },
     "execution_count": 43,
     "metadata": {},
     "output_type": "execute_result"
    }
   ],
   "source": [
    "ut_stress"
   ]
  },
  {
   "cell_type": "code",
   "execution_count": 44,
   "id": "300b9622",
   "metadata": {},
   "outputs": [
    {
     "data": {
      "text/plain": [
       "[0.014934104094390018, 0.014491574042188414, 0.01536893333688843]"
      ]
     },
     "execution_count": 44,
     "metadata": {},
     "output_type": "execute_result"
    }
   ],
   "source": [
    "ut_strain"
   ]
  },
  {
   "cell_type": "code",
   "execution_count": 45,
   "id": "d2ccc4c9",
   "metadata": {},
   "outputs": [],
   "source": [
    "mean_ut_stress = np.mean(ut_stress)\n",
    "mean_ut_strain = np.mean(ut_strain)\n",
    "std_ut_stress = np.std(ut_stress)\n",
    "std_ut_strain = np.std(ut_strain)"
   ]
  },
  {
   "cell_type": "code",
   "execution_count": 46,
   "id": "0c84bda7",
   "metadata": {},
   "outputs": [
    {
     "data": {
      "text/plain": [
       "31.233548934002712"
      ]
     },
     "execution_count": 46,
     "metadata": {},
     "output_type": "execute_result"
    }
   ],
   "source": [
    "mean_ut_stress"
   ]
  },
  {
   "cell_type": "code",
   "execution_count": 47,
   "id": "f01f011b",
   "metadata": {},
   "outputs": [
    {
     "data": {
      "text/plain": [
       "0.014931537157822286"
      ]
     },
     "execution_count": 47,
     "metadata": {},
     "output_type": "execute_result"
    }
   ],
   "source": [
    "mean_ut_strain"
   ]
  },
  {
   "cell_type": "code",
   "execution_count": 48,
   "id": "2464eac3",
   "metadata": {},
   "outputs": [
    {
     "data": {
      "text/plain": [
       "0.7693585172239206"
      ]
     },
     "execution_count": 48,
     "metadata": {},
     "output_type": "execute_result"
    }
   ],
   "source": [
    "std_ut_stress"
   ]
  },
  {
   "cell_type": "code",
   "execution_count": 49,
   "id": "fe9713e7",
   "metadata": {},
   "outputs": [
    {
     "data": {
      "text/plain": [
       "0.00035818503120746057"
      ]
     },
     "execution_count": 49,
     "metadata": {},
     "output_type": "execute_result"
    }
   ],
   "source": [
    "std_ut_strain"
   ]
  },
  {
   "cell_type": "markdown",
   "id": "3dbfa610",
   "metadata": {},
   "source": [
    "# Find Young's Modulus of the parts - Approach 1 Don't USE IT"
   ]
  },
  {
   "cell_type": "code",
   "execution_count": 22,
   "id": "458f48b5",
   "metadata": {},
   "outputs": [],
   "source": [
    "coefs1 = []\n",
    "strains = []\n",
    "for i in range(1, 4):\n",
    "    stress = np.array(data[\"Spec \" + str(i)].loc[0: indices[i - 1], \"True Stress\"])\n",
    "    strain = np.array(data[\"Spec \" + str(i)].loc[0: indices[i - 1], \"True Strain\"])\n",
    "    strains.append(strain)\n",
    "    coef = np.polyfit(strain, stress, 1)\n",
    "    coefs1.append(coef)"
   ]
  },
  {
   "cell_type": "code",
   "execution_count": 23,
   "id": "76a3c66b",
   "metadata": {},
   "outputs": [
    {
     "data": {
      "text/plain": [
       "[array([2.17728890e+03, 1.89346242e+00]),\n",
       " array([2.22812202e+03, 1.57621115e+00]),\n",
       " array([2.23431250e+03, 1.96686223e+00])]"
      ]
     },
     "execution_count": 23,
     "metadata": {},
     "output_type": "execute_result"
    }
   ],
   "source": [
    "coefs1"
   ]
  },
  {
   "cell_type": "code",
   "execution_count": 24,
   "id": "d2ff1719",
   "metadata": {},
   "outputs": [],
   "source": [
    "expressions1 = []\n",
    "for i in coefs1:\n",
    "    expressions1.append(np.poly1d(i))"
   ]
  },
  {
   "cell_type": "code",
   "execution_count": 25,
   "id": "6b133a05",
   "metadata": {},
   "outputs": [],
   "source": [
    "dataset1 = expressions1[0](np.array(data[\"Spec \" + str(1)].loc[0: indices[0], \"True Strain\"]))\n",
    "dataset2 = expressions1[1](np.array(data[\"Spec \" + str(2)].loc[0: indices[1], \"True Strain\"]))\n",
    "dataset3 = expressions1[2](np.array(data[\"Spec \" + str(3)].loc[0: indices[2], \"True Strain\"]))\n",
    "datasets = [dataset1, dataset2, dataset3]"
   ]
  },
  {
   "cell_type": "code",
   "execution_count": 26,
   "id": "f8c08af1",
   "metadata": {},
   "outputs": [
    {
     "data": {
      "image/png": "[encoded data removed]",
      "text/plain": [
       "<Figure size 432x288 with 3 Axes>"
      ]
     },
     "metadata": {
      "needs_background": "light"
     },
     "output_type": "display_data"
    }
   ],
   "source": [
    "fig, ax = plt.subplots(1, 3)\n",
    "for i in range(3):\n",
    "    ax[i].plot(data[\"Spec \" + str(i + 1)][\"True Strain\"], data[\"Spec \"  + str(i + 1)][\"True Stress\"], \"r-\", label = \"True\")\n",
    "    ax[i].plot(strains[i], datasets[i], \"b--\", label = \"Elastic Trend\")\n",
    "    ax[i].set_title(\"Spec \" + str(i + 1))\n",
    "    ax[i].xlabel = \"Strain [mm/mm]\"\n",
    "    ax[i].ylabel = \"Stress [MPa]\"\n",
    "plt.savefig(output_path + \"\\\\\" + \"True_Curves_With_Young_Modulus_1.pdf\")"
   ]
  },
  {
   "cell_type": "code",
   "execution_count": 27,
   "id": "5aa47800",
   "metadata": {},
   "outputs": [],
   "source": [
    "Young_Modulus1 = []\n",
    "\n",
    "for i in coefs1:\n",
    "    Young_Modulus1.append(i[0])\n",
    "mean_modulus = np.mean(Young_Modulus1)\n",
    "std_modulus = np.std(Young_Modulus1)"
   ]
  },
  {
   "cell_type": "code",
   "execution_count": 28,
   "id": "28be5bc5",
   "metadata": {},
   "outputs": [
    {
     "name": "stdout",
     "output_type": "stream",
     "text": [
      "[2177.2889034500868, 2228.1220197025077, 2234.3124955997896]\n",
      "2213.241139584128\n",
      "25.547380299319716\n"
     ]
    }
   ],
   "source": [
    "print(Young_Modulus1)\n",
    "print(mean_modulus)\n",
    "print(std_modulus)"
   ]
  },
  {
   "cell_type": "markdown",
   "id": "a8e1a995",
   "metadata": {},
   "source": [
    "# Find Young's Modulus of the parts - Approach 2 "
   ]
  },
  {
   "cell_type": "code",
   "execution_count": 29,
   "id": "30086682",
   "metadata": {},
   "outputs": [],
   "source": [
    "coefs2 = []\n",
    "strains2 = []\n",
    "for i in range(1, 4):\n",
    "    stress2 = np.array(data[\"Spec \" + str(i)].loc[0: 16, \"True Stress\"])\n",
    "    strain2 = np.array(data[\"Spec \" + str(i)].loc[0: 16, \"True Strain\"])\n",
    "    strains2.append(strain)\n",
    "    coef = np.polyfit(strain2, stress2, 1)\n",
    "    coefs2.append(coef)"
   ]
  },
  {
   "cell_type": "code",
   "execution_count": 30,
   "id": "609d39b2",
   "metadata": {},
   "outputs": [
    {
     "data": {
      "text/plain": [
       "[array([2.65543897e+03, 7.68172109e-02]),\n",
       " array([ 2.71465511e+03, -4.83627304e-02]),\n",
       " array([2.75894208e+03, 1.57983885e-01])]"
      ]
     },
     "execution_count": 30,
     "metadata": {},
     "output_type": "execute_result"
    }
   ],
   "source": [
    "coefs2"
   ]
  },
  {
   "cell_type": "code",
   "execution_count": 31,
   "id": "7235336a",
   "metadata": {},
   "outputs": [],
   "source": [
    "expressions2 = []\n",
    "for i in coefs2:\n",
    "    expressions2.append(np.poly1d(i))"
   ]
  },
  {
   "cell_type": "code",
   "execution_count": 32,
   "id": "e51a6406",
   "metadata": {},
   "outputs": [],
   "source": [
    "dataset21 = expressions2[0](strains2)\n",
    "dataset22 = expressions2[1](strains2)\n",
    "dataset23 = expressions2[2](strains2)\n",
    "datasets2 = [dataset21, dataset22, dataset23]"
   ]
  },
  {
   "cell_type": "code",
   "execution_count": 33,
   "id": "fdc1c0a4",
   "metadata": {},
   "outputs": [
    {
     "data": {
      "image/png": "[encoded data removed]",
      "text/plain": [
       "<Figure size 432x288 with 3 Axes>"
      ]
     },
     "metadata": {
      "needs_background": "light"
     },
     "output_type": "display_data"
    }
   ],
   "source": [
    "fig, ax = plt.subplots(1, 3)\n",
    "for i in range(3):\n",
    "    ax[i].plot(data[\"Spec \" + str(i + 1)][\"True Strain\"], data[\"Spec \"  + str(i + 1)][\"True Stress\"], \"r-\", label = \"True\")\n",
    "    ax[i].plot(strains2[i], datasets2[i].T, \"b--\", label = \"Elastic Trend\")\n",
    "    ax[i].set_title(\"Spec \" + str(i + 1))\n",
    "    ax[i].xlabel = \"Strain [mm/mm]\"\n",
    "    ax[i].ylabel = \"Stress [MPa]\"\n",
    "plt.savefig(output_path + \"\\\\\" + \"True_Curves_With_Young_Modulus_2.pdf\")"
   ]
  },
  {
   "cell_type": "code",
   "execution_count": 34,
   "id": "9f109213",
   "metadata": {},
   "outputs": [],
   "source": [
    "Young_Modulus2 = []\n",
    "\n",
    "for i in coefs2:\n",
    "    Young_Modulus2.append(i[0])\n",
    "mean_modulus2 = np.mean(Young_Modulus2)\n",
    "std_modulus2 = np.std(Young_Modulus2)"
   ]
  },
  {
   "cell_type": "code",
   "execution_count": 35,
   "id": "288eebe8",
   "metadata": {},
   "outputs": [
    {
     "name": "stdout",
     "output_type": "stream",
     "text": [
      "[2655.438974306968, 2714.655112589307, 2758.9420819914935]\n",
      "2709.6787229625897\n",
      "42.4012316281521\n"
     ]
    }
   ],
   "source": [
    "print(Young_Modulus2)\n",
    "print(mean_modulus2)\n",
    "print(std_modulus2)"
   ]
  },
  {
   "cell_type": "markdown",
   "id": "2373a4cd",
   "metadata": {},
   "source": [
    "# Finding Yield Stress and Strain"
   ]
  },
  {
   "cell_type": "code",
   "execution_count": 58,
   "id": "39807100",
   "metadata": {},
   "outputs": [],
   "source": [
    "yield_stress = []\n",
    "yield_strain = []\n",
    "indices = []\n",
    "for i in range(1, 4):\n",
    "    A = data[\"Spec \" + str(i)]\n",
    "    for j in range(len(A)):\n",
    "        if A.loc[j, \"True Stress\"] > 20:\n",
    "            yield_stress.append(A.loc[j, \"True Stress\"])\n",
    "            yield_strain.append(A.loc[j, \"True Strain\"])\n",
    "            indices.append(j)\n",
    "            break\n"
   ]
  },
  {
   "cell_type": "code",
   "execution_count": 59,
   "id": "209e711f",
   "metadata": {},
   "outputs": [
    {
     "name": "stdout",
     "output_type": "stream",
     "text": [
      "[21.057055593991873, 20.21086679115866, 20.534115821951037]\n",
      "[0.008193909571430963, 0.007834024231774477, 0.00771003197192938]\n",
      "20.60067940236719 0.007912655258378273\n",
      "0.34864681765213257 0.00020521778932543625\n"
     ]
    }
   ],
   "source": [
    "mean_yield_stress = np.mean(yield_stress)\n",
    "std_yield_stress = np.std(yield_stress)\n",
    "mean_yield_strain = np.mean(yield_strain)\n",
    "std_yield_strain = np.std(yield_strain)\n",
    "print(yield_stress, yield_strain, sep = \"\\n\")\n",
    "print(mean_yield_stress, mean_yield_strain, sep = \" \")\n",
    "print(std_yield_stress, std_yield_strain, sep = \" \")"
   ]
  },
  {
   "cell_type": "markdown",
   "id": "085afde4",
   "metadata": {},
   "source": [
    "# Defining Plastic Region"
   ]
  },
  {
   "cell_type": "code",
   "execution_count": 60,
   "id": "d8d7a740",
   "metadata": {},
   "outputs": [],
   "source": [
    "plastic1 = data[\"Spec 1\"].loc[indices[0]:, \"True Strain\"] - yield_strain[0]\n",
    "plastic2 = data[\"Spec 2\"].loc[indices[1]:, \"True Strain\"] - yield_strain[1]\n",
    "plastic3 = data[\"Spec 3\"].loc[indices[2]:, \"True Strain\"] - yield_strain[2]\n",
    "plastic = [plastic1, plastic2, plastic3]"
   ]
  },
  {
   "cell_type": "code",
   "execution_count": 61,
   "id": "8da3be7d",
   "metadata": {},
   "outputs": [],
   "source": [
    "plastic_stress1 = data[\"Spec 1\"].loc[indices[0]:, \"True Stress\"]\n",
    "plastic_stress2 = data[\"Spec 2\"].loc[indices[1]:, \"True Stress\"]\n",
    "plastic_stress3 = data[\"Spec 3\"].loc[indices[2]:, \"True Stress\"]\n",
    "plastic_stress = [plastic_stress1, plastic_stress2, plastic_stress3]"
   ]
  },
  {
   "cell_type": "code",
   "execution_count": 62,
   "id": "c7f65754",
   "metadata": {},
   "outputs": [
    {
     "data": {
      "image/png": "[encoded data removed]",
      "text/plain": [
       "<Figure size 432x288 with 3 Axes>"
      ]
     },
     "metadata": {
      "needs_background": "light"
     },
     "output_type": "display_data"
    }
   ],
   "source": [
    "fig, ax = plt.subplots(1, 3)\n",
    "for i in range(3):\n",
    "    ax[i].plot(plastic[i], plastic_stress[i], \"r-\", label = \"Spec 1\")\n",
    "    ax[i].xlabel = \"Strain [mm/mm]\"\n",
    "    ax[i].ylabel = \"Stress [MPa]\"\n",
    "\n",
    "plt.title(\"True Plastic Strain Stress\")\n",
    "plt.savefig(output_path + \"\\\\\" + \"True_Plastic_Strain_Stress.pdf\")\n"
   ]
  },
  {
   "cell_type": "code",
   "execution_count": 64,
   "id": "31afbde8",
   "metadata": {},
   "outputs": [],
   "source": [
    "for i in range(1, 4):\n",
    "    data[\"Spec \" + str(i)].to_excel(output_path + \"\\\\\" + \"Spec_\" + str(i) + \".xlsx\")"
   ]
  },
  {
   "cell_type": "markdown",
   "id": "c3ff41ec",
   "metadata": {},
   "source": [
    "# Using Linear Extension of the Softening Region"
   ]
  },
  {
   "cell_type": "code",
   "execution_count": 88,
   "id": "ea25c30f",
   "metadata": {},
   "outputs": [],
   "source": [
    "necking_i = []\n",
    "for i in range(1, 4):\n",
    "    A = data[\"Spec \" + str(i)]\n",
    "    indeX = list(A[\"True Stress\"]).index(max(A[\"True Stress\"]))\n",
    "    necking_i.append(indeX)"
   ]
  },
  {
   "cell_type": "code",
   "execution_count": 89,
   "id": "a1f8fb1c",
   "metadata": {},
   "outputs": [
    {
     "data": {
      "text/plain": [
       "[28, 29, 32]"
      ]
     },
     "execution_count": 89,
     "metadata": {},
     "output_type": "execute_result"
    }
   ],
   "source": [
    "necking_i"
   ]
  },
  {
   "cell_type": "code",
   "execution_count": 90,
   "id": "e4779dbc",
   "metadata": {},
   "outputs": [],
   "source": [
    "for i in range(1, 4):\n",
    "    A = data[\"Spec \" + str(i)]\n",
    "    for j in range(necking_i[i-1]):\n",
    "        A.loc[j, \"Abaqus Strain Linear\"] = A.loc[j, \"True Strain\"]\n",
    "        A.loc[j, \"Abaqus Stress Linear\"] = A.loc[j, \"True Stress\"]\n",
    "    for k in range(necking_i[i-1], len(A)):\n",
    "        A.loc[k, \"Abaqus Strain Linear\"] = A.loc[k, \"True Strain\"]\n",
    "        a = A.loc[necking_i[i-1], \"True Stress\"]\n",
    "        b = a * (1 - A.loc[necking_i[i-1], \"True Strain\"])\n",
    "        A.loc[k, \"Abaqus Stress Linear\"] = a * A.loc[k, \"True Strain\"] + b"
   ]
  },
  {
   "cell_type": "code",
   "execution_count": 82,
   "id": "291217e1",
   "metadata": {},
   "outputs": [
    {
     "data": {
      "text/html": [
       "<div>\n",
       "<style scoped>\n",
       "    .dataframe tbody tr th:only-of-type {\n",
       "        vertical-align: middle;\n",
       "    }\n",
       "\n",
       "    .dataframe tbody tr th {\n",
       "        vertical-align: top;\n",
       "    }\n",
       "\n",
       "    .dataframe thead th {\n",
       "        text-align: right;\n",
       "    }\n",
       "</style>\n",
       "<table border=\"1\" class=\"dataframe\">\n",
       "  <thead>\n",
       "    <tr style=\"text-align: right;\">\n",
       "      <th></th>\n",
       "      <th>Displacement</th>\n",
       "      <th>Force</th>\n",
       "      <th>Engineering Strain</th>\n",
       "      <th>Engineering Stress</th>\n",
       "      <th>True Strain</th>\n",
       "      <th>True Stress</th>\n",
       "      <th>Abaqus Strain Linear</th>\n",
       "      <th>Abaqus Stress Linear</th>\n",
       "    </tr>\n",
       "  </thead>\n",
       "  <tbody>\n",
       "    <tr>\n",
       "      <th>0</th>\n",
       "      <td>0.040976</td>\n",
       "      <td>10.435827</td>\n",
       "      <td>0.000305</td>\n",
       "      <td>0.335799</td>\n",
       "      <td>0.000305</td>\n",
       "      <td>0.335902</td>\n",
       "      <td>0.000305</td>\n",
       "      <td>0.335902</td>\n",
       "    </tr>\n",
       "    <tr>\n",
       "      <th>1</th>\n",
       "      <td>0.094969</td>\n",
       "      <td>52.068941</td>\n",
       "      <td>0.000708</td>\n",
       "      <td>1.675450</td>\n",
       "      <td>0.000707</td>\n",
       "      <td>1.676636</td>\n",
       "      <td>0.000707</td>\n",
       "      <td>1.676636</td>\n",
       "    </tr>\n",
       "    <tr>\n",
       "      <th>2</th>\n",
       "      <td>0.153949</td>\n",
       "      <td>90.431837</td>\n",
       "      <td>0.001147</td>\n",
       "      <td>2.909874</td>\n",
       "      <td>0.001147</td>\n",
       "      <td>2.913212</td>\n",
       "      <td>0.001147</td>\n",
       "      <td>2.913212</td>\n",
       "    </tr>\n",
       "    <tr>\n",
       "      <th>3</th>\n",
       "      <td>0.220492</td>\n",
       "      <td>135.473964</td>\n",
       "      <td>0.001643</td>\n",
       "      <td>4.359219</td>\n",
       "      <td>0.001642</td>\n",
       "      <td>4.366381</td>\n",
       "      <td>0.001642</td>\n",
       "      <td>4.366381</td>\n",
       "    </tr>\n",
       "    <tr>\n",
       "      <th>4</th>\n",
       "      <td>0.282056</td>\n",
       "      <td>177.619509</td>\n",
       "      <td>0.002102</td>\n",
       "      <td>5.715358</td>\n",
       "      <td>0.002100</td>\n",
       "      <td>5.727372</td>\n",
       "      <td>0.002100</td>\n",
       "      <td>5.727372</td>\n",
       "    </tr>\n",
       "    <tr>\n",
       "      <th>5</th>\n",
       "      <td>0.348060</td>\n",
       "      <td>223.295502</td>\n",
       "      <td>0.002594</td>\n",
       "      <td>7.185099</td>\n",
       "      <td>0.002590</td>\n",
       "      <td>7.203736</td>\n",
       "      <td>0.002590</td>\n",
       "      <td>7.203736</td>\n",
       "    </tr>\n",
       "    <tr>\n",
       "      <th>6</th>\n",
       "      <td>0.412608</td>\n",
       "      <td>257.036666</td>\n",
       "      <td>0.003075</td>\n",
       "      <td>8.270807</td>\n",
       "      <td>0.003070</td>\n",
       "      <td>8.296238</td>\n",
       "      <td>0.003070</td>\n",
       "      <td>8.296238</td>\n",
       "    </tr>\n",
       "    <tr>\n",
       "      <th>7</th>\n",
       "      <td>0.463066</td>\n",
       "      <td>297.769547</td>\n",
       "      <td>0.003451</td>\n",
       "      <td>9.581491</td>\n",
       "      <td>0.003445</td>\n",
       "      <td>9.614555</td>\n",
       "      <td>0.003445</td>\n",
       "      <td>9.614555</td>\n",
       "    </tr>\n",
       "    <tr>\n",
       "      <th>8</th>\n",
       "      <td>0.550144</td>\n",
       "      <td>350.087872</td>\n",
       "      <td>0.004100</td>\n",
       "      <td>11.264966</td>\n",
       "      <td>0.004091</td>\n",
       "      <td>11.311149</td>\n",
       "      <td>0.004091</td>\n",
       "      <td>11.311149</td>\n",
       "    </tr>\n",
       "    <tr>\n",
       "      <th>9</th>\n",
       "      <td>0.493408</td>\n",
       "      <td>318.373231</td>\n",
       "      <td>0.003677</td>\n",
       "      <td>10.244467</td>\n",
       "      <td>0.003670</td>\n",
       "      <td>10.282135</td>\n",
       "      <td>0.003670</td>\n",
       "      <td>10.282135</td>\n",
       "    </tr>\n",
       "    <tr>\n",
       "      <th>10</th>\n",
       "      <td>0.622503</td>\n",
       "      <td>395.113086</td>\n",
       "      <td>0.004639</td>\n",
       "      <td>12.713766</td>\n",
       "      <td>0.004628</td>\n",
       "      <td>12.772745</td>\n",
       "      <td>0.004628</td>\n",
       "      <td>12.772745</td>\n",
       "    </tr>\n",
       "    <tr>\n",
       "      <th>11</th>\n",
       "      <td>0.693460</td>\n",
       "      <td>427.525505</td>\n",
       "      <td>0.005168</td>\n",
       "      <td>13.756718</td>\n",
       "      <td>0.005154</td>\n",
       "      <td>13.827809</td>\n",
       "      <td>0.005154</td>\n",
       "      <td>13.827809</td>\n",
       "    </tr>\n",
       "    <tr>\n",
       "      <th>12</th>\n",
       "      <td>0.754355</td>\n",
       "      <td>467.415425</td>\n",
       "      <td>0.005622</td>\n",
       "      <td>15.040277</td>\n",
       "      <td>0.005606</td>\n",
       "      <td>15.124827</td>\n",
       "      <td>0.005606</td>\n",
       "      <td>15.124827</td>\n",
       "    </tr>\n",
       "    <tr>\n",
       "      <th>13</th>\n",
       "      <td>0.823741</td>\n",
       "      <td>504.135967</td>\n",
       "      <td>0.006139</td>\n",
       "      <td>16.221854</td>\n",
       "      <td>0.006120</td>\n",
       "      <td>16.321434</td>\n",
       "      <td>0.006120</td>\n",
       "      <td>16.321434</td>\n",
       "    </tr>\n",
       "    <tr>\n",
       "      <th>14</th>\n",
       "      <td>0.913097</td>\n",
       "      <td>543.407223</td>\n",
       "      <td>0.006805</td>\n",
       "      <td>17.485506</td>\n",
       "      <td>0.006781</td>\n",
       "      <td>17.604487</td>\n",
       "      <td>0.006781</td>\n",
       "      <td>17.604487</td>\n",
       "    </tr>\n",
       "    <tr>\n",
       "      <th>15</th>\n",
       "      <td>0.859484</td>\n",
       "      <td>525.082335</td>\n",
       "      <td>0.006405</td>\n",
       "      <td>16.895857</td>\n",
       "      <td>0.006385</td>\n",
       "      <td>17.004074</td>\n",
       "      <td>0.006385</td>\n",
       "      <td>17.004074</td>\n",
       "    </tr>\n",
       "    <tr>\n",
       "      <th>16</th>\n",
       "      <td>0.974416</td>\n",
       "      <td>576.037137</td>\n",
       "      <td>0.007261</td>\n",
       "      <td>18.535457</td>\n",
       "      <td>0.007235</td>\n",
       "      <td>18.670051</td>\n",
       "      <td>0.007235</td>\n",
       "      <td>18.670051</td>\n",
       "    </tr>\n",
       "    <tr>\n",
       "      <th>17</th>\n",
       "      <td>1.048166</td>\n",
       "      <td>616.605570</td>\n",
       "      <td>0.007811</td>\n",
       "      <td>19.840849</td>\n",
       "      <td>0.007781</td>\n",
       "      <td>19.995827</td>\n",
       "      <td>0.007781</td>\n",
       "      <td>19.995827</td>\n",
       "    </tr>\n",
       "    <tr>\n",
       "      <th>18</th>\n",
       "      <td>1.104058</td>\n",
       "      <td>649.062125</td>\n",
       "      <td>0.008228</td>\n",
       "      <td>20.885221</td>\n",
       "      <td>0.008194</td>\n",
       "      <td>21.057056</td>\n",
       "      <td>0.008194</td>\n",
       "      <td>21.057056</td>\n",
       "    </tr>\n",
       "    <tr>\n",
       "      <th>19</th>\n",
       "      <td>1.197938</td>\n",
       "      <td>689.742331</td>\n",
       "      <td>0.008927</td>\n",
       "      <td>22.194210</td>\n",
       "      <td>0.008888</td>\n",
       "      <td>22.392341</td>\n",
       "      <td>0.008888</td>\n",
       "      <td>22.392341</td>\n",
       "    </tr>\n",
       "    <tr>\n",
       "      <th>20</th>\n",
       "      <td>1.265648</td>\n",
       "      <td>723.705292</td>\n",
       "      <td>0.009432</td>\n",
       "      <td>23.287054</td>\n",
       "      <td>0.009388</td>\n",
       "      <td>23.506692</td>\n",
       "      <td>0.009388</td>\n",
       "      <td>23.506692</td>\n",
       "    </tr>\n",
       "    <tr>\n",
       "      <th>21</th>\n",
       "      <td>1.320763</td>\n",
       "      <td>748.599445</td>\n",
       "      <td>0.009842</td>\n",
       "      <td>24.088087</td>\n",
       "      <td>0.009794</td>\n",
       "      <td>24.325173</td>\n",
       "      <td>0.009794</td>\n",
       "      <td>24.325173</td>\n",
       "    </tr>\n",
       "    <tr>\n",
       "      <th>22</th>\n",
       "      <td>1.403428</td>\n",
       "      <td>775.850541</td>\n",
       "      <td>0.010459</td>\n",
       "      <td>24.964960</td>\n",
       "      <td>0.010404</td>\n",
       "      <td>25.226056</td>\n",
       "      <td>0.010404</td>\n",
       "      <td>25.226056</td>\n",
       "    </tr>\n",
       "    <tr>\n",
       "      <th>23</th>\n",
       "      <td>1.486194</td>\n",
       "      <td>807.298473</td>\n",
       "      <td>0.011075</td>\n",
       "      <td>25.976877</td>\n",
       "      <td>0.011014</td>\n",
       "      <td>26.264579</td>\n",
       "      <td>0.011014</td>\n",
       "      <td>26.264579</td>\n",
       "    </tr>\n",
       "    <tr>\n",
       "      <th>24</th>\n",
       "      <td>1.570332</td>\n",
       "      <td>838.763692</td>\n",
       "      <td>0.011702</td>\n",
       "      <td>26.989350</td>\n",
       "      <td>0.011634</td>\n",
       "      <td>27.305188</td>\n",
       "      <td>0.011634</td>\n",
       "      <td>27.305188</td>\n",
       "    </tr>\n",
       "    <tr>\n",
       "      <th>25</th>\n",
       "      <td>1.663358</td>\n",
       "      <td>870.660282</td>\n",
       "      <td>0.012396</td>\n",
       "      <td>28.015704</td>\n",
       "      <td>0.012319</td>\n",
       "      <td>28.362974</td>\n",
       "      <td>0.012319</td>\n",
       "      <td>28.362974</td>\n",
       "    </tr>\n",
       "    <tr>\n",
       "      <th>26</th>\n",
       "      <td>1.773376</td>\n",
       "      <td>900.913686</td>\n",
       "      <td>0.013215</td>\n",
       "      <td>28.989184</td>\n",
       "      <td>0.013129</td>\n",
       "      <td>29.372288</td>\n",
       "      <td>0.013129</td>\n",
       "      <td>29.372288</td>\n",
       "    </tr>\n",
       "    <tr>\n",
       "      <th>27</th>\n",
       "      <td>1.895600</td>\n",
       "      <td>929.295062</td>\n",
       "      <td>0.014126</td>\n",
       "      <td>29.902427</td>\n",
       "      <td>0.014027</td>\n",
       "      <td>30.324836</td>\n",
       "      <td>0.014027</td>\n",
       "      <td>30.324836</td>\n",
       "    </tr>\n",
       "    <tr>\n",
       "      <th>28</th>\n",
       "      <td>2.019046</td>\n",
       "      <td>945.273615</td>\n",
       "      <td>0.015046</td>\n",
       "      <td>30.416577</td>\n",
       "      <td>0.014934</td>\n",
       "      <td>30.874230</td>\n",
       "      <td>0.014934</td>\n",
       "      <td>30.874230</td>\n",
       "    </tr>\n",
       "    <tr>\n",
       "      <th>29</th>\n",
       "      <td>2.144562</td>\n",
       "      <td>940.270569</td>\n",
       "      <td>0.015982</td>\n",
       "      <td>30.255592</td>\n",
       "      <td>0.015855</td>\n",
       "      <td>30.739122</td>\n",
       "      <td>0.015855</td>\n",
       "      <td>30.902668</td>\n",
       "    </tr>\n",
       "    <tr>\n",
       "      <th>30</th>\n",
       "      <td>2.267271</td>\n",
       "      <td>914.961219</td>\n",
       "      <td>0.016896</td>\n",
       "      <td>29.441199</td>\n",
       "      <td>0.016755</td>\n",
       "      <td>29.938637</td>\n",
       "      <td>0.016755</td>\n",
       "      <td>30.930444</td>\n",
       "    </tr>\n",
       "    <tr>\n",
       "      <th>31</th>\n",
       "      <td>2.381015</td>\n",
       "      <td>883.035271</td>\n",
       "      <td>0.017744</td>\n",
       "      <td>28.413901</td>\n",
       "      <td>0.017588</td>\n",
       "      <td>28.918066</td>\n",
       "      <td>0.017588</td>\n",
       "      <td>30.956168</td>\n",
       "    </tr>\n",
       "    <tr>\n",
       "      <th>32</th>\n",
       "      <td>2.482546</td>\n",
       "      <td>853.062283</td>\n",
       "      <td>0.018500</td>\n",
       "      <td>27.449444</td>\n",
       "      <td>0.018331</td>\n",
       "      <td>27.957265</td>\n",
       "      <td>0.018331</td>\n",
       "      <td>30.979113</td>\n",
       "    </tr>\n",
       "    <tr>\n",
       "      <th>33</th>\n",
       "      <td>2.558115</td>\n",
       "      <td>821.026910</td>\n",
       "      <td>0.019063</td>\n",
       "      <td>26.418624</td>\n",
       "      <td>0.018884</td>\n",
       "      <td>26.922253</td>\n",
       "      <td>0.018884</td>\n",
       "      <td>30.996179</td>\n",
       "    </tr>\n",
       "    <tr>\n",
       "      <th>34</th>\n",
       "      <td>2.626201</td>\n",
       "      <td>786.011033</td>\n",
       "      <td>0.019571</td>\n",
       "      <td>25.291900</td>\n",
       "      <td>0.019382</td>\n",
       "      <td>25.786881</td>\n",
       "      <td>0.019382</td>\n",
       "      <td>31.011547</td>\n",
       "    </tr>\n",
       "    <tr>\n",
       "      <th>35</th>\n",
       "      <td>2.657495</td>\n",
       "      <td>761.227832</td>\n",
       "      <td>0.019804</td>\n",
       "      <td>24.494437</td>\n",
       "      <td>0.019610</td>\n",
       "      <td>24.979524</td>\n",
       "      <td>0.019610</td>\n",
       "      <td>31.018608</td>\n",
       "    </tr>\n",
       "  </tbody>\n",
       "</table>\n",
       "</div>"
      ],
      "text/plain": [
       "    Displacement       Force  Engineering Strain  Engineering Stress  \\\n",
       "0       0.040976   10.435827            0.000305            0.335799   \n",
       "1       0.094969   52.068941            0.000708            1.675450   \n",
       "2       0.153949   90.431837            0.001147            2.909874   \n",
       "3       0.220492  135.473964            0.001643            4.359219   \n",
       "4       0.282056  177.619509            0.002102            5.715358   \n",
       "5       0.348060  223.295502            0.002594            7.185099   \n",
       "6       0.412608  257.036666            0.003075            8.270807   \n",
       "7       0.463066  297.769547            0.003451            9.581491   \n",
       "8       0.550144  350.087872            0.004100           11.264966   \n",
       "9       0.493408  318.373231            0.003677           10.244467   \n",
       "10      0.622503  395.113086            0.004639           12.713766   \n",
       "11      0.693460  427.525505            0.005168           13.756718   \n",
       "12      0.754355  467.415425            0.005622           15.040277   \n",
       "13      0.823741  504.135967            0.006139           16.221854   \n",
       "14      0.913097  543.407223            0.006805           17.485506   \n",
       "15      0.859484  525.082335            0.006405           16.895857   \n",
       "16      0.974416  576.037137            0.007261           18.535457   \n",
       "17      1.048166  616.605570            0.007811           19.840849   \n",
       "18      1.104058  649.062125            0.008228           20.885221   \n",
       "19      1.197938  689.742331            0.008927           22.194210   \n",
       "20      1.265648  723.705292            0.009432           23.287054   \n",
       "21      1.320763  748.599445            0.009842           24.088087   \n",
       "22      1.403428  775.850541            0.010459           24.964960   \n",
       "23      1.486194  807.298473            0.011075           25.976877   \n",
       "24      1.570332  838.763692            0.011702           26.989350   \n",
       "25      1.663358  870.660282            0.012396           28.015704   \n",
       "26      1.773376  900.913686            0.013215           28.989184   \n",
       "27      1.895600  929.295062            0.014126           29.902427   \n",
       "28      2.019046  945.273615            0.015046           30.416577   \n",
       "29      2.144562  940.270569            0.015982           30.255592   \n",
       "30      2.267271  914.961219            0.016896           29.441199   \n",
       "31      2.381015  883.035271            0.017744           28.413901   \n",
       "32      2.482546  853.062283            0.018500           27.449444   \n",
       "33      2.558115  821.026910            0.019063           26.418624   \n",
       "34      2.626201  786.011033            0.019571           25.291900   \n",
       "35      2.657495  761.227832            0.019804           24.494437   \n",
       "\n",
       "    True Strain  True Stress  Abaqus Strain Linear  Abaqus Stress Linear  \n",
       "0      0.000305     0.335902              0.000305              0.335902  \n",
       "1      0.000707     1.676636              0.000707              1.676636  \n",
       "2      0.001147     2.913212              0.001147              2.913212  \n",
       "3      0.001642     4.366381              0.001642              4.366381  \n",
       "4      0.002100     5.727372              0.002100              5.727372  \n",
       "5      0.002590     7.203736              0.002590              7.203736  \n",
       "6      0.003070     8.296238              0.003070              8.296238  \n",
       "7      0.003445     9.614555              0.003445              9.614555  \n",
       "8      0.004091    11.311149              0.004091             11.311149  \n",
       "9      0.003670    10.282135              0.003670             10.282135  \n",
       "10     0.004628    12.772745              0.004628             12.772745  \n",
       "11     0.005154    13.827809              0.005154             13.827809  \n",
       "12     0.005606    15.124827              0.005606             15.124827  \n",
       "13     0.006120    16.321434              0.006120             16.321434  \n",
       "14     0.006781    17.604487              0.006781             17.604487  \n",
       "15     0.006385    17.004074              0.006385             17.004074  \n",
       "16     0.007235    18.670051              0.007235             18.670051  \n",
       "17     0.007781    19.995827              0.007781             19.995827  \n",
       "18     0.008194    21.057056              0.008194             21.057056  \n",
       "19     0.008888    22.392341              0.008888             22.392341  \n",
       "20     0.009388    23.506692              0.009388             23.506692  \n",
       "21     0.009794    24.325173              0.009794             24.325173  \n",
       "22     0.010404    25.226056              0.010404             25.226056  \n",
       "23     0.011014    26.264579              0.011014             26.264579  \n",
       "24     0.011634    27.305188              0.011634             27.305188  \n",
       "25     0.012319    28.362974              0.012319             28.362974  \n",
       "26     0.013129    29.372288              0.013129             29.372288  \n",
       "27     0.014027    30.324836              0.014027             30.324836  \n",
       "28     0.014934    30.874230              0.014934             30.874230  \n",
       "29     0.015855    30.739122              0.015855             30.902668  \n",
       "30     0.016755    29.938637              0.016755             30.930444  \n",
       "31     0.017588    28.918066              0.017588             30.956168  \n",
       "32     0.018331    27.957265              0.018331             30.979113  \n",
       "33     0.018884    26.922253              0.018884             30.996179  \n",
       "34     0.019382    25.786881              0.019382             31.011547  \n",
       "35     0.019610    24.979524              0.019610             31.018608  "
      ]
     },
     "execution_count": 82,
     "metadata": {},
     "output_type": "execute_result"
    }
   ],
   "source": [
    "data[\"Spec 1\"]"
   ]
  },
  {
   "cell_type": "code",
   "execution_count": 95,
   "id": "703ad49e",
   "metadata": {},
   "outputs": [
    {
     "data": {
      "image/png": "[encoded data removed]",
      "text/plain": [
       "<Figure size 432x288 with 1 Axes>"
      ]
     },
     "metadata": {
      "needs_background": "light"
     },
     "output_type": "display_data"
    }
   ],
   "source": [
    "plt.plot(data[\"Spec 2\"][\"Abaqus Strain Linear\"], data[\"Spec 2\"][\"Abaqus Stress Linear\"], \"r-\", label = \"Spec 2\")\n",
    "plt.plot(data[\"Spec 1\"][\"Abaqus Strain Linear\"], data[\"Spec 1\"][\"Abaqus Stress Linear\"], \"b-\", label = \"Spec 1\")\n",
    "plt.plot(data[\"Spec 3\"][\"Abaqus Strain Linear\"], data[\"Spec 3\"][\"Abaqus Stress Linear\"], \"g-\", label = \"Spec 3\")\n",
    "plt.plot(data[\"Spec 2\"][\"True Strain\"], data[\"Spec 2\"][\"True Stress\"], \"r.\", label = \"True Spec 2\")\n",
    "plt.plot(data[\"Spec 1\"][\"True Strain\"], data[\"Spec 1\"][\"True Stress\"], \"b.\", label = \"True Spec 1\")\n",
    "plt.plot(data[\"Spec 3\"][\"True Strain\"], data[\"Spec 3\"][\"True Stress\"], \"g.\", label = \"True Spec 3\")\n",
    "\n",
    "plt.legend()\n",
    "plt.title(\"Import to Abaqus\")\n",
    "plt.xlabel = \"Strain [mm/mm]\"\n",
    "plt.ylabel = \"Stress [MPa]\"\n",
    "plt.savefig(output_path + \"\\\\\" + \"Abaqus_Linear_input_vs_true.pdf\")"
   ]
  },
  {
   "cell_type": "markdown",
   "id": "98fa765d",
   "metadata": {},
   "source": [
    "# Using Expenential Extension of the Softening Region (Ling, 1996)"
   ]
  },
  {
   "cell_type": "code",
   "execution_count": 93,
   "id": "ae2a33a4",
   "metadata": {},
   "outputs": [],
   "source": [
    "for i in range(1, 4):\n",
    "    A = data[\"Spec \" + str(i)]\n",
    "    for j in range(necking_i[i-1]):\n",
    "        A.loc[j, \"Abaqus Strain Exp\"] = A.loc[j, \"True Strain\"]\n",
    "        A.loc[j, \"Abaqus Stress Exp\"] = A.loc[j, \"True Stress\"]\n",
    "    for k in range(necking_i[i-1], len(A)):\n",
    "        A.loc[k, \"Abaqus Strain Exp\"] = A.loc[k, \"True Strain\"]\n",
    "        n = A.loc[necking_i[i-1], \"True Strain\"]\n",
    "        K = A.loc[necking_i[i-1], \"True Stress\"]/(n**n)\n",
    "        A.loc[k, \"Abaqus Stress Exp\"] = K * A.loc[k, \"True Strain\"]**n"
   ]
  },
  {
   "cell_type": "code",
   "execution_count": 96,
   "id": "9f449722",
   "metadata": {},
   "outputs": [
    {
     "data": {
      "image/png": "[encoded data removed]",
      "text/plain": [
       "<Figure size 432x288 with 1 Axes>"
      ]
     },
     "metadata": {
      "needs_background": "light"
     },
     "output_type": "display_data"
    }
   ],
   "source": [
    "plt.plot(data[\"Spec 2\"][\"Abaqus Strain Exp\"], data[\"Spec 2\"][\"Abaqus Stress Exp\"], \"r-\", label = \"Spec 2\")\n",
    "plt.plot(data[\"Spec 1\"][\"Abaqus Strain Exp\"], data[\"Spec 1\"][\"Abaqus Stress Exp\"], \"b-\", label = \"Spec 1\")\n",
    "plt.plot(data[\"Spec 3\"][\"Abaqus Strain Exp\"], data[\"Spec 3\"][\"Abaqus Stress Exp\"], \"g-\", label = \"Spec 3\")\n",
    "plt.plot(data[\"Spec 2\"][\"True Strain\"], data[\"Spec 2\"][\"True Stress\"], \"r.\", label = \"True Spec 2\")\n",
    "plt.plot(data[\"Spec 1\"][\"True Strain\"], data[\"Spec 1\"][\"True Stress\"], \"b.\", label = \"True Spec 1\")\n",
    "plt.plot(data[\"Spec 3\"][\"True Strain\"], data[\"Spec 3\"][\"True Stress\"], \"g.\", label = \"True Spec 3\")\n",
    "\n",
    "plt.legend()\n",
    "plt.xlabel = \"Strain [mm/mm]\"\n",
    "plt.ylabel = \"Stress [MPa]\"\n",
    "plt.savefig(output_path + \"\\\\\" + \"Abaqus_Exp_input_vs_true.pdf\")"
   ]
  },
  {
   "cell_type": "code",
   "execution_count": 97,
   "id": "27820de7",
   "metadata": {},
   "outputs": [],
   "source": [
    "for i in range(1, 4):\n",
    "    data[\"Spec \" + str(i)].to_excel(output_path + \"\\\\\" + \"Spec_\" + str(i) + \".xlsx\")"
   ]
  },
  {
   "cell_type": "code",
   "execution_count": 99,
   "id": "caa7d190",
   "metadata": {},
   "outputs": [
    {
     "data": {
      "text/plain": [
       "[0.008193909571430963, 0.007834024231774477, 0.00771003197192938]"
      ]
     },
     "execution_count": 99,
     "metadata": {},
     "output_type": "execute_result"
    }
   ],
   "source": [
    "yield_strain"
   ]
  },
  {
   "cell_type": "code",
   "execution_count": 106,
   "id": "67a1b9a0",
   "metadata": {},
   "outputs": [],
   "source": [
    "plastic1 = data[\"Spec 1\"].loc[indices[0]:, \"Abaqus Strain Exp\"] - yield_strain[0]\n",
    "plastic2 = data[\"Spec 2\"].loc[indices[1]:, \"Abaqus Strain Exp\"] - yield_strain[1]\n",
    "plastic3 = data[\"Spec 3\"].loc[indices[2]:, \"Abaqus Strain Exp\"] - yield_strain[2]\n",
    "plastic = [plastic1, plastic2, plastic3]\n",
    "\n",
    "plastic_stress1 = data[\"Spec 1\"].loc[indices[0]:, \"Abaqus Stress Exp\"]\n",
    "plastic_stress2 = data[\"Spec 2\"].loc[indices[1]:, \"Abaqus Stress Exp\"]\n",
    "plastic_stress3 = data[\"Spec 3\"].loc[indices[2]:, \"Abaqus Stress Exp\"]\n",
    "plastic_stress = [plastic_stress1, plastic_stress2, plastic_stress3]"
   ]
  },
  {
   "cell_type": "code",
   "execution_count": 107,
   "id": "ffc25c6a",
   "metadata": {},
   "outputs": [],
   "source": [
    "plastic_data = {}\n",
    "for i in range(1, 4):\n",
    "    plastic_data[\"Spec_\" + str(i) + \"_plastic\"] = pd.DataFrame({\"Plastic Strain\" : plastic[i-1],\n",
    "                                                               \"Plastic Stress\" : plastic_stress[i-1]})\n",
    "    plastic_data[\"Spec_\" + str(i) + \"_plastic\"].to_excel(output_path + \"\\\\\" + \"Plastic_data_Spec_\" + str(i) + \".xlsx\")"
   ]
  },
  {
   "cell_type": "code",
   "execution_count": null,
   "id": "90e5d5d8",
   "metadata": {},
   "outputs": [],
   "source": []
  }
 ],
 "metadata": {
  "kernelspec": {
   "display_name": "Python 3 (ipykernel)",
   "language": "python",
   "name": "python3"
  },
  "language_info": {
   "codemirror_mode": {
    "name": "ipython",
    "version": 3
   },
   "file_extension": ".py",
   "mimetype": "text/x-python",
   "name": "python",
   "nbconvert_exporter": "python",
   "pygments_lexer": "ipython3",
   "version": "3.9.7"
  }
 },
 "nbformat": 4,
 "nbformat_minor": 5
}
