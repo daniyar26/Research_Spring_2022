{
 "cells": [
  {
   "cell_type": "code",
   "execution_count": 4,
   "id": "019e5802",
   "metadata": {},
   "outputs": [],
   "source": [
    "import os\n",
    "import pandas as pd\n",
    "from matplotlib import pyplot as plt\n",
    "path = r\"C:\\Users\\Daniyar Syrlybayev\\Desktop\\Material Data\\Excel_files\\\\\"\n",
    "dataset = {}\n",
    "counter = 0\n",
    "for i in os.listdir(path):\n",
    "    dataset[counter] = pd.read_excel(path + str(i))\n",
    "    counter += 1"
   ]
  },
  {
   "cell_type": "code",
   "execution_count": 14,
   "id": "49a3865e",
   "metadata": {},
   "outputs": [],
   "source": [
    "t = 5E-3\n",
    "w = 6E-3\n",
    "A0 = t * w\n",
    "L0 = 135"
   ]
  },
  {
   "cell_type": "code",
   "execution_count": 15,
   "id": "bfb0cd18",
   "metadata": {},
   "outputs": [
    {
     "name": "stdout",
     "output_type": "stream",
     "text": [
      "0.005\n"
     ]
    }
   ],
   "source": [
    "print(t)"
   ]
  },
  {
   "cell_type": "code",
   "execution_count": 16,
   "id": "d613c49e",
   "metadata": {},
   "outputs": [
    {
     "data": {
      "text/html": [
       "<div>\n",
       "<style scoped>\n",
       "    .dataframe tbody tr th:only-of-type {\n",
       "        vertical-align: middle;\n",
       "    }\n",
       "\n",
       "    .dataframe tbody tr th {\n",
       "        vertical-align: top;\n",
       "    }\n",
       "\n",
       "    .dataframe thead th {\n",
       "        text-align: right;\n",
       "    }\n",
       "</style>\n",
       "<table border=\"1\" class=\"dataframe\">\n",
       "  <thead>\n",
       "    <tr style=\"text-align: right;\">\n",
       "      <th></th>\n",
       "      <th>Displacement</th>\n",
       "      <th>Force</th>\n",
       "      <th>Engineering Stress</th>\n",
       "      <th>Engineering Strain</th>\n",
       "    </tr>\n",
       "  </thead>\n",
       "  <tbody>\n",
       "    <tr>\n",
       "      <th>0</th>\n",
       "      <td>0.035612</td>\n",
       "      <td>3.004191</td>\n",
       "      <td>1.001397e+05</td>\n",
       "      <td>0.000264</td>\n",
       "    </tr>\n",
       "    <tr>\n",
       "      <th>1</th>\n",
       "      <td>0.086019</td>\n",
       "      <td>9.260442</td>\n",
       "      <td>3.086814e+05</td>\n",
       "      <td>0.000637</td>\n",
       "    </tr>\n",
       "    <tr>\n",
       "      <th>2</th>\n",
       "      <td>0.118688</td>\n",
       "      <td>24.874863</td>\n",
       "      <td>8.291621e+05</td>\n",
       "      <td>0.000879</td>\n",
       "    </tr>\n",
       "    <tr>\n",
       "      <th>3</th>\n",
       "      <td>0.143593</td>\n",
       "      <td>39.869696</td>\n",
       "      <td>1.328990e+06</td>\n",
       "      <td>0.001064</td>\n",
       "    </tr>\n",
       "    <tr>\n",
       "      <th>4</th>\n",
       "      <td>0.168461</td>\n",
       "      <td>56.360073</td>\n",
       "      <td>1.878669e+06</td>\n",
       "      <td>0.001248</td>\n",
       "    </tr>\n",
       "  </tbody>\n",
       "</table>\n",
       "</div>"
      ],
      "text/plain": [
       "   Displacement      Force  Engineering Stress  Engineering Strain\n",
       "0      0.035612   3.004191        1.001397e+05            0.000264\n",
       "1      0.086019   9.260442        3.086814e+05            0.000637\n",
       "2      0.118688  24.874863        8.291621e+05            0.000879\n",
       "3      0.143593  39.869696        1.328990e+06            0.001064\n",
       "4      0.168461  56.360073        1.878669e+06            0.001248"
      ]
     },
     "execution_count": 16,
     "metadata": {},
     "output_type": "execute_result"
    }
   ],
   "source": [
    "dataset[1].head()"
   ]
  },
  {
   "cell_type": "code",
   "execution_count": 18,
   "id": "57b454b2",
   "metadata": {},
   "outputs": [
    {
     "data": {
      "image/png": "[encoded data removed]",
      "text/plain": [
       "<Figure size 432x288 with 1 Axes>"
      ]
     },
     "metadata": {
      "needs_background": "light"
     },
     "output_type": "display_data"
    }
   ],
   "source": [
    "styles = [\"r-\", \"g-\", \"b-\"]\n",
    "for i in range(3):\n",
    "    dataset[i][\"Engineering Stress\"] = dataset[i][\"Force\"] / (A0 * 1E6) #MPa\n",
    "    dataset[i][\"Engineering Strain\"] = dataset[i][\"Displacement\"] / L0\n",
    "    plt.plot(list(dataset[i][\"Engineering Strain\"]), list(dataset[i][\"Engineering Stress\"]), \n",
    "             styles[i], label = \"Specimen \" + str(i + 1))\n",
    "\n",
    "plt.xlabel(\"Strain [mm/mm]\")\n",
    "plt.ylabel(\"Stress [MPa]\")\n",
    "plt.legend()\n",
    "plt.grid(True)\n",
    "plt.savefig(path + \"Stress_Strain_Curve.pdf\")"
   ]
  },
  {
   "cell_type": "code",
   "execution_count": null,
   "id": "2a26cdcc",
   "metadata": {},
   "outputs": [],
   "source": []
  }
 ],
 "metadata": {
  "kernelspec": {
   "display_name": "Python 3 (ipykernel)",
   "language": "python",
   "name": "python3"
  },
  "language_info": {
   "codemirror_mode": {
    "name": "ipython",
    "version": 3
   },
   "file_extension": ".py",
   "mimetype": "text/x-python",
   "name": "python",
   "nbconvert_exporter": "python",
   "pygments_lexer": "ipython3",
   "version": "3.9.7"
  }
 },
 "nbformat": 4,
 "nbformat_minor": 5
}
